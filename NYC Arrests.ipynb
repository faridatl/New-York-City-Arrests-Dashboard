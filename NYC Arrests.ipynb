{
 "cells": [
  {
   "cell_type": "code",
   "execution_count": 1,
   "id": "6a200179",
   "metadata": {},
   "outputs": [],
   "source": [
    "from pyspark.sql import SparkSession\n"
   ]
  },
  {
   "cell_type": "code",
   "execution_count": 2,
   "id": "4553da41",
   "metadata": {},
   "outputs": [
    {
     "name": "stderr",
     "output_type": "stream",
     "text": [
      "22/05/20 18:55:44 WARN Utils: Your hostname, faridatl-VirtualBox resolves to a loopback address: 127.0.1.1; using 10.0.2.15 instead (on interface enp0s3)\n",
      "22/05/20 18:55:44 WARN Utils: Set SPARK_LOCAL_IP if you need to bind to another address\n",
      "WARNING: An illegal reflective access operation has occurred\n",
      "WARNING: Illegal reflective access by org.apache.spark.unsafe.Platform (file:/home/faridatl/.local/lib/python3.8/site-packages/pyspark/jars/spark-unsafe_2.12-3.2.1.jar) to constructor java.nio.DirectByteBuffer(long,int)\n",
      "WARNING: Please consider reporting this to the maintainers of org.apache.spark.unsafe.Platform\n",
      "WARNING: Use --illegal-access=warn to enable warnings of further illegal reflective access operations\n",
      "WARNING: All illegal access operations will be denied in a future release\n",
      "Using Spark's default log4j profile: org/apache/spark/log4j-defaults.properties\n",
      "Setting default log level to \"WARN\".\n",
      "To adjust logging level use sc.setLogLevel(newLevel). For SparkR, use setLogLevel(newLevel).\n",
      "22/05/20 18:55:46 WARN NativeCodeLoader: Unable to load native-hadoop library for your platform... using builtin-java classes where applicable\n"
     ]
    }
   ],
   "source": [
    "spk = SparkSession.builder.master('local[1]').appName('read-csv').getOrCreate()"
   ]
  },
  {
   "cell_type": "code",
   "execution_count": 3,
   "id": "e0b3f4ff",
   "metadata": {},
   "outputs": [
    {
     "name": "stderr",
     "output_type": "stream",
     "text": [
      "                                                                                \r"
     ]
    }
   ],
   "source": [
    "arrests = spk.read.csv(path='/home/faridatl/Downloads/NYPD_ArrestsDataofficial.csv', sep=',', \n",
    "                  header=True, quote='\"', inferSchema=True)"
   ]
  },
  {
   "cell_type": "code",
   "execution_count": 4,
   "id": "2f30750b",
   "metadata": {},
   "outputs": [
    {
     "name": "stdout",
     "output_type": "stream",
     "text": [
      "+----------+-----------+-----+------------+-----+----------+----------+----------+-----------+---------------+-----------------+---------+--------+--------------+----------+----------+----------------+-------------+--------------------+---------+-------------------+------------------+----------------------+----------------+\n",
      "|ARREST_KEY|ARREST_DATE|PD_CD|     PD_DESC|KY_CD| OFNS_DESC|  LAW_CODE|LAW_CAT_CD|ARREST_BORO|ARREST_PRECINCT|JURISDICTION_CODE|AGE_GROUP|PERP_SEX|     PERP_RACE|X_COORD_CD|Y_COORD_CD|        Latitude|    Longitude|             Lon_Lat|Zip Codes|Community Districts|Borough Boundaries|City Council Districts|Police Precincts|\n",
      "+----------+-----------+-----+------------+-----+----------+----------+----------+-----------+---------------+-----------------+---------+--------+--------------+----------+----------+----------------+-------------+--------------------+---------+-------------------+------------------+----------------------+----------------+\n",
      "| 192799737|  1/26/2019|  177|SEXUAL ABUSE|  116|SEX CRIMES|PL 1306503|         F|          M|             25|                0|    45-64|       M|         BLACK|   1000555|    230994|40.8006943310001|-73.941109286|POINT (-73.941109...|    13093|                  7|                 4|                    36|              16|\n",
      "| 193260691|   2/6/2019| null|        null| null|      null|PL 2203400|         F|          M|             14|                0|    25-44|       M|       UNKNOWN|    986685|    215375|40.7578390030001|-73.991212111|POINT (-73.991212...|    13094|                 12|                 4|                    10|               8|\n",
      "| 190049060| 11/15/2018|  157|      RAPE 1|  104|      RAPE|PL 1303501|         F|          K|             77|                0|    25-44|       M|         BLACK|   1003606|    185050|40.6745833080001|-73.930221541|POINT (-73.930221...|    17615|                 16|                 2|                    49|              49|\n",
      "| 189182271| 10/24/2018|  153|      RAPE 3|  104|      RAPE|PL 1302503|         F|          M|              5|                0|    45-64|       M|WHITE HISPANIC|    984946|    200203|    40.716195914|-73.997490746|POINT (-73.997490...|    12076|                 70|                 4|                    32|               2|\n",
      "| 196324211|  4/23/2019|  157|      RAPE 1|  104|      RAPE|PL 1303501|         F|          K|             77|                0|    45-64|       M|BLACK HISPANIC|   1003606|    185050|40.6745833080001|-73.930221541|POINT (-73.930221...|    17615|                 16|                 2|                    49|              49|\n",
      "+----------+-----------+-----+------------+-----+----------+----------+----------+-----------+---------------+-----------------+---------+--------+--------------+----------+----------+----------------+-------------+--------------------+---------+-------------------+------------------+----------------------+----------------+\n",
      "only showing top 5 rows\n",
      "\n",
      "root\n",
      " |-- ARREST_KEY: integer (nullable = true)\n",
      " |-- ARREST_DATE: string (nullable = true)\n",
      " |-- PD_CD: integer (nullable = true)\n",
      " |-- PD_DESC: string (nullable = true)\n",
      " |-- KY_CD: integer (nullable = true)\n",
      " |-- OFNS_DESC: string (nullable = true)\n",
      " |-- LAW_CODE: string (nullable = true)\n",
      " |-- LAW_CAT_CD: string (nullable = true)\n",
      " |-- ARREST_BORO: string (nullable = true)\n",
      " |-- ARREST_PRECINCT: integer (nullable = true)\n",
      " |-- JURISDICTION_CODE: integer (nullable = true)\n",
      " |-- AGE_GROUP: string (nullable = true)\n",
      " |-- PERP_SEX: string (nullable = true)\n",
      " |-- PERP_RACE: string (nullable = true)\n",
      " |-- X_COORD_CD: integer (nullable = true)\n",
      " |-- Y_COORD_CD: integer (nullable = true)\n",
      " |-- Latitude: double (nullable = true)\n",
      " |-- Longitude: double (nullable = true)\n",
      " |-- Lon_Lat: string (nullable = true)\n",
      " |-- Zip Codes: integer (nullable = true)\n",
      " |-- Community Districts: integer (nullable = true)\n",
      " |-- Borough Boundaries: integer (nullable = true)\n",
      " |-- City Council Districts: integer (nullable = true)\n",
      " |-- Police Precincts: integer (nullable = true)\n",
      "\n"
     ]
    }
   ],
   "source": [
    "arrests.show(5)\n",
    "arrests.printSchema() ## describes what kind of data is in dataframe "
   ]
  },
  {
   "cell_type": "code",
   "execution_count": null,
   "id": "62a66b68",
   "metadata": {},
   "outputs": [],
   "source": [
    "'OFNS_DESC' 'PERP_RACE' 'PERP_SEX' 'ARREST_BORO' 'LAW_CAT_CD'"
   ]
  },
  {
   "cell_type": "markdown",
   "id": "5dd1cf3f",
   "metadata": {},
   "source": [
    "## Create offenses dataframe then save file to local"
   ]
  },
  {
   "cell_type": "code",
   "execution_count": 6,
   "id": "75d8da7e",
   "metadata": {},
   "outputs": [
    {
     "name": "stderr",
     "output_type": "stream",
     "text": [
      "                                                                                \r"
     ]
    },
    {
     "data": {
      "text/plain": [
       "747615"
      ]
     },
     "execution_count": 6,
     "metadata": {},
     "output_type": "execute_result"
    }
   ],
   "source": [
    "offenses = arrests.select('OFNS_DESC')\n",
    "offenses.count()"
   ]
  },
  {
   "cell_type": "code",
   "execution_count": 7,
   "id": "f0b544f3",
   "metadata": {},
   "outputs": [
    {
     "name": "stderr",
     "output_type": "stream",
     "text": [
      "                                                                                \r"
     ]
    },
    {
     "data": {
      "text/plain": [
       "745724"
      ]
     },
     "execution_count": 7,
     "metadata": {},
     "output_type": "execute_result"
    }
   ],
   "source": [
    "offenses = offenses.na.drop()\n",
    "offenses.count()"
   ]
  },
  {
   "cell_type": "code",
   "execution_count": 8,
   "id": "1633e697",
   "metadata": {},
   "outputs": [
    {
     "name": "stderr",
     "output_type": "stream",
     "text": [
      "                                                                                \r"
     ]
    }
   ],
   "source": [
    "#rdd = spk.sparkContext.parallelize(offenses)\n",
    "#type(offenses)\n",
    "offenses.write.csv('offenses1.txt')"
   ]
  },
  {
   "cell_type": "markdown",
   "id": "5ff4d04d",
   "metadata": {},
   "source": [
    "## Explore string elements with groupBy function"
   ]
  },
  {
   "cell_type": "code",
   "execution_count": 10,
   "id": "f20f86f9",
   "metadata": {},
   "outputs": [
    {
     "name": "stderr",
     "output_type": "stream",
     "text": [
      "[Stage 18:=============================>                            (1 + 1) / 2]\r"
     ]
    },
    {
     "name": "stdout",
     "output_type": "stream",
     "text": [
      "+--------------------+------+\n",
      "|           OFNs_DESC| count|\n",
      "+--------------------+------+\n",
      "|     DANGEROUS DRUGS|102290|\n",
      "|ASSAULT 3 & RELAT...|100202|\n",
      "|       PETIT LARCENY| 68065|\n",
      "|VEHICLE AND TRAFF...| 54178|\n",
      "|      FELONY ASSAULT| 45410|\n",
      "|MISCELLANEOUS PEN...| 37197|\n",
      "|       GRAND LARCENY| 30120|\n",
      "|   DANGEROUS WEAPONS| 28300|\n",
      "|             ROBBERY| 27864|\n",
      "|OTHER OFFENSES RE...| 27270|\n",
      "|CRIMINAL MISCHIEF...| 20819|\n",
      "|INTOXICATED & IMP...| 16196|\n",
      "|OFFENSES AGAINST ...| 16098|\n",
      "|             FORGERY| 15661|\n",
      "|   CRIMINAL TRESPASS| 13440|\n",
      "|            BURGLARY| 13315|\n",
      "|OTHER TRAFFIC INF...| 11408|\n",
      "|CRIMINAL MISCHIEF...| 10572|\n",
      "|          SEX CRIMES| 10335|\n",
      "|OFF. AGNST PUB OR...|  8015|\n",
      "+--------------------+------+\n",
      "only showing top 20 rows\n",
      "\n"
     ]
    },
    {
     "name": "stderr",
     "output_type": "stream",
     "text": [
      "\r",
      "                                                                                \r"
     ]
    }
   ],
   "source": [
    "arrests.groupBy('OFNs_DESC').count().sort('count', ascending=False).show()"
   ]
  },
  {
   "cell_type": "code",
   "execution_count": 8,
   "id": "2c0c7161",
   "metadata": {},
   "outputs": [
    {
     "name": "stderr",
     "output_type": "stream",
     "text": [
      "[Stage 12:=============================>                            (1 + 1) / 2]\r"
     ]
    },
    {
     "name": "stdout",
     "output_type": "stream",
     "text": [
      "+-----------+--------------------+-----+\n",
      "|ARREST_BORO|           OFNs_DESC|count|\n",
      "+-----------+--------------------+-----+\n",
      "|          K|     DANGEROUS DRUGS|29109|\n",
      "|          B|ASSAULT 3 & RELAT...|28580|\n",
      "|          B|     DANGEROUS DRUGS|27313|\n",
      "|          M|       PETIT LARCENY|26773|\n",
      "|          K|ASSAULT 3 & RELAT...|26207|\n",
      "|          M|     DANGEROUS DRUGS|25785|\n",
      "|          Q|ASSAULT 3 & RELAT...|22118|\n",
      "|          M|ASSAULT 3 & RELAT...|19382|\n",
      "|          Q|     DANGEROUS DRUGS|15299|\n",
      "|          K|       PETIT LARCENY|15287|\n",
      "|          K|MISCELLANEOUS PEN...|14051|\n",
      "|          K|      FELONY ASSAULT|13579|\n",
      "|          M|VEHICLE AND TRAFF...|13465|\n",
      "|          M|       GRAND LARCENY|13224|\n",
      "|          Q|VEHICLE AND TRAFF...|12945|\n",
      "|          K|VEHICLE AND TRAFF...|12691|\n",
      "|          B|VEHICLE AND TRAFF...|12412|\n",
      "|          B|      FELONY ASSAULT|12064|\n",
      "|          B|       PETIT LARCENY|11813|\n",
      "|          M|OTHER OFFENSES RE...|11313|\n",
      "+-----------+--------------------+-----+\n",
      "only showing top 20 rows\n",
      "\n"
     ]
    },
    {
     "name": "stderr",
     "output_type": "stream",
     "text": [
      "\r",
      "                                                                                \r"
     ]
    }
   ],
   "source": [
    "arrests.groupBy('ARREST_BORO','OFNs_DESC').count().sort('count', ascending=False).show()"
   ]
  },
  {
   "cell_type": "code",
   "execution_count": 9,
   "id": "9f04d187",
   "metadata": {},
   "outputs": [
    {
     "name": "stderr",
     "output_type": "stream",
     "text": [
      "[Stage 15:=============================>                            (1 + 1) / 2]\r"
     ]
    },
    {
     "name": "stdout",
     "output_type": "stream",
     "text": [
      "+-----------+--------------+--------+--------------------+-----+\n",
      "|ARREST_BORO|     PERP_RACE|PERP_SEX|           OFNS_DESC|count|\n",
      "+-----------+--------------+--------+--------------------+-----+\n",
      "|          K|         BLACK|       M|     DANGEROUS DRUGS|13455|\n",
      "|          K|         BLACK|       M|ASSAULT 3 & RELAT...|11137|\n",
      "|          M|         BLACK|       M|     DANGEROUS DRUGS|10658|\n",
      "|          B|         BLACK|       M|ASSAULT 3 & RELAT...| 9445|\n",
      "|          B|         BLACK|       M|     DANGEROUS DRUGS| 9237|\n",
      "|          M|         BLACK|       M|       PETIT LARCENY| 9090|\n",
      "|          B|WHITE HISPANIC|       M|     DANGEROUS DRUGS| 8802|\n",
      "|          K|         BLACK|       M|MISCELLANEOUS PEN...| 7117|\n",
      "|          B|WHITE HISPANIC|       M|ASSAULT 3 & RELAT...| 6568|\n",
      "|          M|         BLACK|       M|ASSAULT 3 & RELAT...| 6291|\n",
      "|          K|         BLACK|       M|VEHICLE AND TRAFF...| 5960|\n",
      "|          M|WHITE HISPANIC|       M|     DANGEROUS DRUGS| 5942|\n",
      "|          K|         BLACK|       M|      FELONY ASSAULT| 5932|\n",
      "|          K|         BLACK|       M|   DANGEROUS WEAPONS| 5895|\n",
      "|          K|         BLACK|       M|       PETIT LARCENY| 5588|\n",
      "|          Q|         BLACK|       M|ASSAULT 3 & RELAT...| 5534|\n",
      "|          M|         BLACK|       M|OTHER OFFENSES RE...| 5456|\n",
      "|          M|         BLACK|       M|       GRAND LARCENY| 5307|\n",
      "|          K|WHITE HISPANIC|       M|     DANGEROUS DRUGS| 5253|\n",
      "|          Q|WHITE HISPANIC|       M|ASSAULT 3 & RELAT...| 5191|\n",
      "+-----------+--------------+--------+--------------------+-----+\n",
      "only showing top 20 rows\n",
      "\n"
     ]
    },
    {
     "name": "stderr",
     "output_type": "stream",
     "text": [
      "\r",
      "                                                                                \r"
     ]
    }
   ],
   "source": [
    "arrests.groupBy('ARREST_BORO', 'PERP_RACE','PERP_SEX','OFNS_DESC').count().sort('count', ascending=False).show() # BROOKLYN has the most"
   ]
  },
  {
   "cell_type": "code",
   "execution_count": 11,
   "id": "4003cfa4",
   "metadata": {},
   "outputs": [
    {
     "name": "stderr",
     "output_type": "stream",
     "text": [
      "[Stage 16:=============================>                            (1 + 1) / 2]\r"
     ]
    },
    {
     "name": "stdout",
     "output_type": "stream",
     "text": [
      "+--------------------+------+\n",
      "|           PERP_RACE| count|\n",
      "+--------------------+------+\n",
      "|               BLACK|355864|\n",
      "|      WHITE HISPANIC|188813|\n",
      "|               WHITE| 90513|\n",
      "|      BLACK HISPANIC| 64714|\n",
      "|ASIAN / PACIFIC I...| 39975|\n",
      "|             UNKNOWN|  5700|\n",
      "|AMERICAN INDIAN/A...|  2036|\n",
      "+--------------------+------+\n",
      "\n"
     ]
    },
    {
     "name": "stderr",
     "output_type": "stream",
     "text": [
      "\r",
      "                                                                                \r"
     ]
    }
   ],
   "source": [
    "arrests.groupBy('PERP_RACE').count().sort('count', ascending=False).show()"
   ]
  },
  {
   "cell_type": "code",
   "execution_count": 19,
   "id": "23e7b02c",
   "metadata": {},
   "outputs": [
    {
     "name": "stderr",
     "output_type": "stream",
     "text": [
      "[Stage 31:=============================>                            (1 + 1) / 2]\r"
     ]
    },
    {
     "name": "stdout",
     "output_type": "stream",
     "text": [
      "+--------+------+\n",
      "|PERP_SEX| count|\n",
      "+--------+------+\n",
      "|       M|613586|\n",
      "|       F|134029|\n",
      "+--------+------+\n",
      "\n"
     ]
    },
    {
     "name": "stderr",
     "output_type": "stream",
     "text": [
      "\r",
      "                                                                                \r"
     ]
    }
   ],
   "source": [
    "arrests.groupBy('PERP_SEX').count().sort('count', ascending=False).show()"
   ]
  },
  {
   "cell_type": "code",
   "execution_count": 55,
   "id": "52e2d481",
   "metadata": {},
   "outputs": [
    {
     "name": "stderr",
     "output_type": "stream",
     "text": [
      "[Stage 46:=============================>                            (1 + 1) / 2]\r"
     ]
    },
    {
     "name": "stdout",
     "output_type": "stream",
     "text": [
      "+---------+------+\n",
      "|AGE_GROUP| count|\n",
      "+---------+------+\n",
      "|    25-44|386858|\n",
      "|    18-24|165878|\n",
      "|    45-64|147530|\n",
      "|      <18| 38381|\n",
      "|      65+|  8968|\n",
      "+---------+------+\n",
      "\n"
     ]
    },
    {
     "name": "stderr",
     "output_type": "stream",
     "text": [
      "\r",
      "                                                                                \r"
     ]
    }
   ],
   "source": [
    "arrests.groupBy('AGE_GROUP').count().sort('count', ascending=False).show()"
   ]
  },
  {
   "cell_type": "markdown",
   "id": "5da7cfec",
   "metadata": {},
   "source": []
  }
 ],
 "metadata": {
  "kernelspec": {
   "display_name": "Python 3 (ipykernel)",
   "language": "python",
   "name": "python3"
  },
  "language_info": {
   "codemirror_mode": {
    "name": "ipython",
    "version": 3
   },
   "file_extension": ".py",
   "mimetype": "text/x-python",
   "name": "python",
   "nbconvert_exporter": "python",
   "pygments_lexer": "ipython3",
   "version": "3.8.10"
  }
 },
 "nbformat": 4,
 "nbformat_minor": 5
}
